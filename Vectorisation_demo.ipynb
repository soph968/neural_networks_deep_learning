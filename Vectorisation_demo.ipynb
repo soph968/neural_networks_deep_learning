{
  "nbformat": 4,
  "nbformat_minor": 0,
  "metadata": {
    "colab": {
      "name": "Vectorisation demo.ipynb",
      "provenance": [],
      "authorship_tag": "ABX9TyPHOKYPwshJrqStY9XSrXGb",
      "include_colab_link": true
    },
    "kernelspec": {
      "name": "python3",
      "display_name": "Python 3"
    },
    "language_info": {
      "name": "python"
    }
  },
  "cells": [
    {
      "cell_type": "markdown",
      "metadata": {
        "id": "view-in-github",
        "colab_type": "text"
      },
      "source": [
        "<a href=\"https://colab.research.google.com/github/soph968/neural_networks_deep_learning/blob/main/Vectorisation_demo.ipynb\" target=\"_parent\"><img src=\"https://colab.research.google.com/assets/colab-badge.svg\" alt=\"Open In Colab\"/></a>"
      ]
    },
    {
      "cell_type": "code",
      "metadata": {
        "colab": {
          "base_uri": "https://localhost:8080/"
        },
        "id": "HXruafrJhg41",
        "outputId": "4a89682f-4924-4566-8048-5765db7d27f0"
      },
      "source": [
        "import numpy as np\n",
        "\n",
        "a = np.array([1, 2, 3, 4])\n",
        "print(a)"
      ],
      "execution_count": 1,
      "outputs": [
        {
          "output_type": "stream",
          "text": [
            "[1 2 3 4]\n"
          ],
          "name": "stdout"
        }
      ]
    },
    {
      "cell_type": "code",
      "metadata": {
        "colab": {
          "base_uri": "https://localhost:8080/"
        },
        "id": "S4opebkEhnOY",
        "outputId": "3d72e3b3-07fe-4e5d-ea78-a0ea3071767e"
      },
      "source": [
        "import time\n",
        "\n",
        "a = np.random.rand(1000000)\n",
        "b = np.random.rand(1000000)\n",
        "\n",
        "tic = time.time() #current time\n",
        "c = np.dot(a, b)\n",
        "toc = time.time()\n",
        "\n",
        "print(\"Vectorised version:\" + str(1000 * (toc - tic)) + \"ms\")\n",
        "\n",
        "c = 0\n",
        "tic = time.time()\n",
        "for i in range(1000000):\n",
        "  c += a[i] * b[i]\n",
        "toc = time.time()\n",
        "\n",
        "print(\"For loop:\" + str(1000*(toc-tic)) + \"ms\")"
      ],
      "execution_count": 4,
      "outputs": [
        {
          "output_type": "stream",
          "text": [
            "Vectorised version:1.4977455139160156ms\n",
            "For loop:690.6323432922363ms\n"
          ],
          "name": "stdout"
        }
      ]
    },
    {
      "cell_type": "code",
      "metadata": {
        "id": "V0tUNt4wh7ar"
      },
      "source": [
        ""
      ],
      "execution_count": null,
      "outputs": []
    }
  ]
}